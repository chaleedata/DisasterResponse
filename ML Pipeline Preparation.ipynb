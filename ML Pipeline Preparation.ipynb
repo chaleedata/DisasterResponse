{
 "cells": [
  {
   "cell_type": "markdown",
   "metadata": {},
   "source": [
    "# ML Pipeline Preparation\n",
    "Follow the instructions below to help you create your ML pipeline.\n",
    "### 1. Import libraries and load data from database.\n",
    "- Import Python libraries\n",
    "- Load dataset from database with [`read_sql_table`](https://pandas.pydata.org/pandas-docs/stable/generated/pandas.read_sql_table.html)\n",
    "- Define feature and target variables X and Y"
   ]
  },
  {
   "cell_type": "code",
   "execution_count": 1,
   "metadata": {},
   "outputs": [
    {
     "name": "stderr",
     "output_type": "stream",
     "text": [
      "[nltk_data] Downloading package punkt to\n",
      "[nltk_data]     C:\\Users\\Chalee\\AppData\\Roaming\\nltk_data...\n",
      "[nltk_data]   Package punkt is already up-to-date!\n"
     ]
    },
    {
     "data": {
      "text/plain": [
       "True"
      ]
     },
     "execution_count": 1,
     "metadata": {},
     "output_type": "execute_result"
    }
   ],
   "source": [
    "from sklearn.model_selection import GridSearchCV\n",
    "from sklearn.metrics import classification_report\n",
    "from nltk.stem.snowball import SnowballStemmer\n",
    "from nltk.stem.porter import PorterStemmer\n",
    "import matplotlib.pyplot as plt\n",
    "import numpy as np\n",
    "import pandas as pd\n",
    "from nltk.tokenize import word_tokenize\n",
    "from sklearn.ensemble import RandomForestClassifier, GradientBoostingClassifier\n",
    "from sklearn.feature_extraction.text import TfidfVectorizer\n",
    "from sklearn.model_selection import train_test_split\n",
    "from sklearn.multioutput import MultiOutputClassifier\n",
    "from sklearn.pipeline import Pipeline\n",
    "from sqlalchemy import create_engine\n",
    "\n",
    "import os\n",
    "import nltk\n",
    "# nltk.data.path.insert(0, os.path.expanduser(\"~/Downloads/nltk_data\"))\n",
    "# nltk.download('punkt', download_dir=nltk.data.path[0])\n",
    "nltk.download('punkt')"
   ]
  },
  {
   "cell_type": "code",
   "execution_count": 2,
   "metadata": {},
   "outputs": [],
   "source": [
    "# load data from database\n",
    "engine = create_engine('sqlite:///InsertDatabaseName.db')\n",
    "df = pd.read_sql('InsertTableName', engine)\n",
    "X = df['message']\n",
    "Y = df.drop(columns=['message', 'original', 'genre', 'child_alone'])\n",
    "Y['related'] = Y['related'].map(lambda x: min(x, 1))"
   ]
  },
  {
   "cell_type": "markdown",
   "metadata": {},
   "source": [
    "### 2. Write a tokenization function to process your text data"
   ]
  },
  {
   "cell_type": "code",
   "execution_count": 3,
   "metadata": {},
   "outputs": [],
   "source": [
    "stem = SnowballStemmer(\"english\").stem\n",
    "\n",
    "def tokenize(text):\n",
    "    words = word_tokenize(text.lower())\n",
    "    words = [stem(w) for w in words]\n",
    "    return words"
   ]
  },
  {
   "cell_type": "markdown",
   "metadata": {},
   "source": [
    "### 3. Build a machine learning pipeline\n",
    "This machine pipeline should take in the `message` column as input and output classification results on the other 36 categories in the dataset. You may find the [MultiOutputClassifier](http://scikit-learn.org/stable/modules/generated/sklearn.multioutput.MultiOutputClassifier.html) helpful for predicting multiple target variables."
   ]
  },
  {
   "cell_type": "code",
   "execution_count": 4,
   "metadata": {},
   "outputs": [],
   "source": [
    "from sklearn.neighbors import KNeighborsClassifier\n",
    "from sklearn.ensemble import AdaBoostClassifier\n",
    "from sklearn.neural_network import MLPClassifier\n",
    "\n",
    "pipeline = Pipeline([\n",
    "    (\"vectorizer\", TfidfVectorizer(tokenizer=tokenize)),\n",
    "    (\"classifier\", RandomForestClassifier())\n",
    "#    (\"classifier\", MultiOutputClassifier(GradientBoostingClassifier()))\n",
    "#    (\"classifier\", KNeighborsClassifier())\n",
    "#    (\"classifier\", MultiOutputClassifier(AdaBoostClassifier()))\n",
    "#    (\"classifier\", MLPClassifier())\n",
    "])"
   ]
  },
  {
   "cell_type": "markdown",
   "metadata": {},
   "source": [
    "### 4. Train pipeline\n",
    "- Split data into train and test sets\n",
    "- Train pipeline"
   ]
  },
  {
   "cell_type": "code",
   "execution_count": 5,
   "metadata": {},
   "outputs": [
    {
     "name": "stderr",
     "output_type": "stream",
     "text": [
      "C:\\Users\\Chalee\\anaconda3\\lib\\site-packages\\sklearn\\ensemble\\forest.py:245: FutureWarning: The default value of n_estimators will change from 10 in version 0.20 to 100 in 0.22.\n",
      "  \"10 in version 0.20 to 100 in 0.22.\", FutureWarning)\n"
     ]
    },
    {
     "data": {
      "text/plain": [
       "Pipeline(memory=None,\n",
       "         steps=[('vectorizer',\n",
       "                 TfidfVectorizer(analyzer='word', binary=False,\n",
       "                                 decode_error='strict',\n",
       "                                 dtype=<class 'numpy.float64'>,\n",
       "                                 encoding='utf-8', input='content',\n",
       "                                 lowercase=True, max_df=1.0, max_features=None,\n",
       "                                 min_df=1, ngram_range=(1, 1), norm='l2',\n",
       "                                 preprocessor=None, smooth_idf=True,\n",
       "                                 stop_words=None, strip_accents=None,\n",
       "                                 sublinear_tf=False,\n",
       "                                 token_patt...\n",
       "                 RandomForestClassifier(bootstrap=True, class_weight=None,\n",
       "                                        criterion='gini', max_depth=None,\n",
       "                                        max_features='auto',\n",
       "                                        max_leaf_nodes=None,\n",
       "                                        min_impurity_decrease=0.0,\n",
       "                                        min_impurity_split=None,\n",
       "                                        min_samples_leaf=1, min_samples_split=2,\n",
       "                                        min_weight_fraction_leaf=0.0,\n",
       "                                        n_estimators=10, n_jobs=None,\n",
       "                                        oob_score=False, random_state=None,\n",
       "                                        verbose=0, warm_start=False))],\n",
       "         verbose=False)"
      ]
     },
     "execution_count": 5,
     "metadata": {},
     "output_type": "execute_result"
    }
   ],
   "source": [
    "X_train, X_test, Y_train, Y_test = train_test_split(X, Y)\n",
    "#X_train, Y_train = X, Y\n",
    "\n",
    "pipeline.fit(X_train, Y_train)"
   ]
  },
  {
   "cell_type": "markdown",
   "metadata": {},
   "source": [
    "### 5. Test your model\n",
    "Report the f1 score, precision and recall for each output category of the dataset. You can do this by iterating through the columns and calling sklearn's `classification_report` on each."
   ]
  },
  {
   "cell_type": "code",
   "execution_count": 6,
   "metadata": {},
   "outputs": [
    {
     "name": "stdout",
     "output_type": "stream",
     "text": [
      ">>> related\n",
      "              precision    recall  f1-score   support\n",
      "\n",
      "           0       0.58      0.45      0.51      1500\n",
      "           1       0.85      0.90      0.87      5054\n",
      "\n",
      "    accuracy                           0.80      6554\n",
      "   macro avg       0.71      0.68      0.69      6554\n",
      "weighted avg       0.78      0.80      0.79      6554\n",
      "\n",
      ">>> request\n",
      "              precision    recall  f1-score   support\n",
      "\n",
      "           0       0.88      0.99      0.93      5411\n",
      "           1       0.84      0.34      0.48      1143\n",
      "\n",
      "    accuracy                           0.87      6554\n",
      "   macro avg       0.86      0.66      0.70      6554\n",
      "weighted avg       0.87      0.87      0.85      6554\n",
      "\n",
      ">>> offer\n",
      "              precision    recall  f1-score   support\n",
      "\n",
      "           0       1.00      1.00      1.00      6523\n",
      "           1       0.00      0.00      0.00        31\n",
      "\n",
      "    accuracy                           1.00      6554\n",
      "   macro avg       0.50      0.50      0.50      6554\n",
      "weighted avg       0.99      1.00      0.99      6554\n",
      "\n",
      ">>> aid_related\n",
      "              precision    recall  f1-score   support\n",
      "\n",
      "           0       0.68      0.91      0.78      3815\n",
      "           1       0.76      0.40      0.53      2739\n",
      "\n",
      "    accuracy                           0.70      6554\n",
      "   macro avg       0.72      0.66      0.65      6554\n",
      "weighted avg       0.71      0.70      0.67      6554\n",
      "\n",
      ">>> medical_help\n",
      "              precision    recall  f1-score   support\n",
      "\n",
      "           0       0.92      1.00      0.96      6019\n",
      "           1       0.58      0.01      0.03       535\n",
      "\n",
      "    accuracy                           0.92      6554\n",
      "   macro avg       0.75      0.51      0.49      6554\n",
      "weighted avg       0.89      0.92      0.88      6554\n",
      "\n",
      ">>> medical_products\n",
      "              precision    recall  f1-score   support\n",
      "\n",
      "           0       0.95      1.00      0.97      6215\n",
      "           1       0.69      0.03      0.05       339\n",
      "\n",
      "    accuracy                           0.95      6554\n",
      "   macro avg       0.82      0.51      0.51      6554\n",
      "weighted avg       0.94      0.95      0.93      6554\n",
      "\n",
      ">>> search_and_rescue\n",
      "              precision    recall  f1-score   support\n",
      "\n",
      "           0       0.97      1.00      0.99      6371\n",
      "           1       0.33      0.01      0.01       183\n",
      "\n",
      "    accuracy                           0.97      6554\n",
      "   macro avg       0.65      0.50      0.50      6554\n",
      "weighted avg       0.95      0.97      0.96      6554\n",
      "\n",
      ">>> security\n",
      "              precision    recall  f1-score   support\n",
      "\n",
      "           0       0.98      1.00      0.99      6436\n",
      "           1       0.00      0.00      0.00       118\n",
      "\n",
      "    accuracy                           0.98      6554\n",
      "   macro avg       0.49      0.50      0.50      6554\n",
      "weighted avg       0.96      0.98      0.97      6554\n",
      "\n",
      ">>> military\n",
      "              precision    recall  f1-score   support\n",
      "\n",
      "           0       0.97      1.00      0.98      6351\n",
      "           1       0.50      0.01      0.03       203\n",
      "\n",
      "    accuracy                           0.97      6554\n",
      "   macro avg       0.73      0.51      0.51      6554\n",
      "weighted avg       0.95      0.97      0.95      6554\n",
      "\n",
      ">>> water\n",
      "              precision    recall  f1-score   support\n",
      "\n",
      "           0       0.94      1.00      0.97      6142\n",
      "           1       0.91      0.12      0.21       412\n",
      "\n",
      "    accuracy                           0.94      6554\n",
      "   macro avg       0.93      0.56      0.59      6554\n",
      "weighted avg       0.94      0.94      0.92      6554\n",
      "\n",
      ">>> food\n",
      "              precision    recall  f1-score   support\n",
      "\n",
      "           0       0.91      0.99      0.95      5816\n",
      "           1       0.82      0.19      0.31       738\n",
      "\n",
      "    accuracy                           0.90      6554\n",
      "   macro avg       0.86      0.59      0.63      6554\n",
      "weighted avg       0.90      0.90      0.88      6554\n",
      "\n",
      ">>> shelter\n",
      "              precision    recall  f1-score   support\n",
      "\n",
      "           0       0.92      1.00      0.96      6002\n",
      "           1       0.82      0.09      0.16       552\n",
      "\n",
      "    accuracy                           0.92      6554\n",
      "   macro avg       0.87      0.54      0.56      6554\n",
      "weighted avg       0.91      0.92      0.89      6554\n",
      "\n",
      ">>> clothing\n",
      "              precision    recall  f1-score   support\n",
      "\n",
      "           0       0.99      1.00      0.99      6460\n",
      "           1       0.64      0.10      0.17        94\n",
      "\n",
      "    accuracy                           0.99      6554\n",
      "   macro avg       0.81      0.55      0.58      6554\n",
      "weighted avg       0.98      0.99      0.98      6554\n",
      "\n",
      ">>> money\n",
      "              precision    recall  f1-score   support\n",
      "\n",
      "           0       0.98      1.00      0.99      6406\n",
      "           1       1.00      0.03      0.05       148\n",
      "\n",
      "    accuracy                           0.98      6554\n",
      "   macro avg       0.99      0.51      0.52      6554\n",
      "weighted avg       0.98      0.98      0.97      6554\n",
      "\n",
      ">>> missing_people\n",
      "              precision    recall  f1-score   support\n",
      "\n",
      "           0       0.99      1.00      0.99      6479\n",
      "           1       1.00      0.04      0.08        75\n",
      "\n",
      "    accuracy                           0.99      6554\n",
      "   macro avg       0.99      0.52      0.54      6554\n",
      "weighted avg       0.99      0.99      0.98      6554\n",
      "\n",
      ">>> refugees\n",
      "              precision    recall  f1-score   support\n",
      "\n",
      "           0       0.97      1.00      0.98      6332\n",
      "           1       0.00      0.00      0.00       222\n",
      "\n",
      "    accuracy                           0.97      6554\n",
      "   macro avg       0.48      0.50      0.49      6554\n",
      "weighted avg       0.93      0.97      0.95      6554\n",
      "\n",
      ">>> death\n",
      "              precision    recall  f1-score   support\n",
      "\n",
      "           0       0.96      1.00      0.98      6252\n",
      "           1       0.82      0.03      0.06       302\n",
      "\n",
      "    accuracy                           0.95      6554\n",
      "   macro avg       0.89      0.51      0.52      6554\n",
      "weighted avg       0.95      0.95      0.93      6554\n",
      "\n",
      ">>> other_aid\n",
      "              precision    recall  f1-score   support\n",
      "\n",
      "           0       0.87      1.00      0.93      5674\n",
      "           1       0.44      0.02      0.04       880\n",
      "\n",
      "    accuracy                           0.86      6554\n",
      "   macro avg       0.65      0.51      0.48      6554\n",
      "weighted avg       0.81      0.86      0.81      6554\n"
     ]
    },
    {
     "name": "stderr",
     "output_type": "stream",
     "text": [
      "C:\\Users\\Chalee\\anaconda3\\lib\\site-packages\\sklearn\\metrics\\classification.py:1437: UndefinedMetricWarning: Precision and F-score are ill-defined and being set to 0.0 in labels with no predicted samples.\n",
      "  'precision', 'predicted', average, warn_for)\n"
     ]
    },
    {
     "name": "stdout",
     "output_type": "stream",
     "text": [
      "\n",
      ">>> infrastructure_related\n",
      "              precision    recall  f1-score   support\n",
      "\n",
      "           0       0.93      1.00      0.96      6092\n",
      "           1       0.25      0.00      0.00       462\n",
      "\n",
      "    accuracy                           0.93      6554\n",
      "   macro avg       0.59      0.50      0.48      6554\n",
      "weighted avg       0.88      0.93      0.90      6554\n",
      "\n",
      ">>> transport\n",
      "              precision    recall  f1-score   support\n",
      "\n",
      "           0       0.95      1.00      0.98      6241\n",
      "           1       0.67      0.01      0.01       313\n",
      "\n",
      "    accuracy                           0.95      6554\n",
      "   macro avg       0.81      0.50      0.49      6554\n",
      "weighted avg       0.94      0.95      0.93      6554\n",
      "\n",
      ">>> buildings\n",
      "              precision    recall  f1-score   support\n",
      "\n",
      "           0       0.95      1.00      0.98      6233\n",
      "           1       0.70      0.02      0.04       321\n",
      "\n",
      "    accuracy                           0.95      6554\n",
      "   macro avg       0.83      0.51      0.51      6554\n",
      "weighted avg       0.94      0.95      0.93      6554\n",
      "\n",
      ">>> electricity\n",
      "              precision    recall  f1-score   support\n",
      "\n",
      "           0       0.98      1.00      0.99      6421\n",
      "           1       1.00      0.02      0.03       133\n",
      "\n",
      "    accuracy                           0.98      6554\n",
      "   macro avg       0.99      0.51      0.51      6554\n",
      "weighted avg       0.98      0.98      0.97      6554\n",
      "\n",
      ">>> tools\n",
      "              precision    recall  f1-score   support\n",
      "\n",
      "           0       0.99      1.00      1.00      6521\n",
      "           1       0.00      0.00      0.00        33\n",
      "\n",
      "    accuracy                           0.99      6554\n",
      "   macro avg       0.50      0.50      0.50      6554\n",
      "weighted avg       0.99      0.99      0.99      6554\n",
      "\n",
      ">>> hospitals\n",
      "              precision    recall  f1-score   support\n",
      "\n",
      "           0       0.99      1.00      0.99      6480\n",
      "           1       0.00      0.00      0.00        74\n",
      "\n",
      "    accuracy                           0.99      6554\n",
      "   macro avg       0.49      0.50      0.50      6554\n",
      "weighted avg       0.98      0.99      0.98      6554\n",
      "\n",
      ">>> shops\n",
      "              precision    recall  f1-score   support\n",
      "\n",
      "           0       1.00      1.00      1.00      6524\n",
      "           1       0.00      0.00      0.00        30\n",
      "\n",
      "    accuracy                           1.00      6554\n",
      "   macro avg       0.50      0.50      0.50      6554\n",
      "weighted avg       0.99      1.00      0.99      6554\n",
      "\n",
      ">>> aid_centers\n",
      "              precision    recall  f1-score   support\n",
      "\n",
      "           0       0.99      1.00      0.99      6466\n",
      "           1       0.00      0.00      0.00        88\n",
      "\n",
      "    accuracy                           0.99      6554\n",
      "   macro avg       0.49      0.50      0.50      6554\n",
      "weighted avg       0.97      0.99      0.98      6554\n",
      "\n",
      ">>> other_infrastructure\n",
      "              precision    recall  f1-score   support\n",
      "\n",
      "           0       0.95      1.00      0.98      6245\n",
      "           1       0.00      0.00      0.00       309\n",
      "\n",
      "    accuracy                           0.95      6554\n",
      "   macro avg       0.48      0.50      0.49      6554\n",
      "weighted avg       0.91      0.95      0.93      6554\n",
      "\n",
      ">>> weather_related\n",
      "              precision    recall  f1-score   support\n",
      "\n",
      "           0       0.81      0.98      0.88      4740\n",
      "           1       0.86      0.40      0.54      1814\n",
      "\n",
      "    accuracy                           0.82      6554\n",
      "   macro avg       0.84      0.69      0.71      6554\n",
      "weighted avg       0.82      0.82      0.79      6554\n",
      "\n",
      ">>> floods\n",
      "              precision    recall  f1-score   support\n",
      "\n",
      "           0       0.93      1.00      0.96      6013\n",
      "           1       0.85      0.14      0.24       541\n",
      "\n",
      "    accuracy                           0.93      6554\n",
      "   macro avg       0.89      0.57      0.60      6554\n",
      "weighted avg       0.92      0.93      0.90      6554\n",
      "\n",
      ">>> storm\n",
      "              precision    recall  f1-score   support\n",
      "\n",
      "           0       0.92      1.00      0.96      5949\n",
      "           1       0.82      0.18      0.30       605\n",
      "\n",
      "    accuracy                           0.92      6554\n",
      "   macro avg       0.87      0.59      0.63      6554\n",
      "weighted avg       0.91      0.92      0.90      6554\n",
      "\n",
      ">>> fire\n",
      "              precision    recall  f1-score   support\n",
      "\n",
      "           0       0.99      1.00      0.99      6483\n",
      "           1       0.00      0.00      0.00        71\n",
      "\n",
      "    accuracy                           0.99      6554\n",
      "   macro avg       0.49      0.50      0.50      6554\n",
      "weighted avg       0.98      0.99      0.98      6554\n",
      "\n",
      ">>> earthquake\n",
      "              precision    recall  f1-score   support\n",
      "\n",
      "           0       0.94      1.00      0.97      5936\n",
      "           1       0.90      0.37      0.52       618\n",
      "\n",
      "    accuracy                           0.94      6554\n",
      "   macro avg       0.92      0.68      0.74      6554\n",
      "weighted avg       0.93      0.94      0.92      6554\n",
      "\n",
      ">>> cold\n",
      "              precision    recall  f1-score   support\n",
      "\n",
      "           0       0.98      1.00      0.99      6434\n",
      "           1       1.00      0.01      0.02       120\n",
      "\n",
      "    accuracy                           0.98      6554\n",
      "   macro avg       0.99      0.50      0.50      6554\n",
      "weighted avg       0.98      0.98      0.97      6554\n",
      "\n",
      ">>> other_weather\n",
      "              precision    recall  f1-score   support\n",
      "\n",
      "           0       0.95      1.00      0.97      6219\n",
      "           1       0.56      0.01      0.03       335\n",
      "\n",
      "    accuracy                           0.95      6554\n",
      "   macro avg       0.75      0.51      0.50      6554\n",
      "weighted avg       0.93      0.95      0.93      6554\n",
      "\n",
      ">>> direct_report\n",
      "              precision    recall  f1-score   support\n",
      "\n",
      "           0       0.85      0.98      0.91      5263\n",
      "           1       0.81      0.27      0.41      1291\n",
      "\n",
      "    accuracy                           0.84      6554\n",
      "   macro avg       0.83      0.63      0.66      6554\n",
      "weighted avg       0.84      0.84      0.81      6554\n",
      "\n",
      "              precision    recall  f1-score   support\n",
      "\n",
      "           0       0.85      0.90      0.87      5054\n",
      "           1       0.84      0.34      0.48      1143\n",
      "           2       0.00      0.00      0.00        31\n",
      "           3       0.76      0.40      0.53      2739\n",
      "           4       0.58      0.01      0.03       535\n",
      "           5       0.69      0.03      0.05       339\n",
      "           6       0.33      0.01      0.01       183\n",
      "           7       0.00      0.00      0.00       118\n",
      "           8       0.50      0.01      0.03       203\n",
      "           9       0.91      0.12      0.21       412\n",
      "          10       0.82      0.19      0.31       738\n",
      "          11       0.82      0.09      0.16       552\n",
      "          12       0.64      0.10      0.17        94\n",
      "          13       1.00      0.03      0.05       148\n",
      "          14       1.00      0.04      0.08        75\n",
      "          15       0.00      0.00      0.00       222\n",
      "          16       0.82      0.03      0.06       302\n",
      "          17       0.44      0.02      0.04       880\n",
      "          18       0.25      0.00      0.00       462\n",
      "          19       0.67      0.01      0.01       313\n",
      "          20       0.70      0.02      0.04       321\n",
      "          21       1.00      0.02      0.03       133\n",
      "          22       0.00      0.00      0.00        33\n",
      "          23       0.00      0.00      0.00        74\n",
      "          24       0.00      0.00      0.00        30\n",
      "          25       0.00      0.00      0.00        88\n",
      "          26       0.00      0.00      0.00       309\n",
      "          27       0.86      0.40      0.54      1814\n",
      "          28       0.85      0.14      0.24       541\n",
      "          29       0.82      0.18      0.30       605\n",
      "          30       0.00      0.00      0.00        71\n",
      "          31       0.90      0.37      0.52       618\n",
      "          32       1.00      0.01      0.02       120\n",
      "          33       0.56      0.01      0.03       335\n",
      "          34       0.81      0.27      0.41      1291\n",
      "\n",
      "   micro avg       0.83      0.38      0.52     20926\n",
      "   macro avg       0.55      0.11      0.15     20926\n",
      "weighted avg       0.74      0.38      0.44     20926\n",
      " samples avg       0.66      0.37      0.43     20926\n",
      "\n"
     ]
    },
    {
     "name": "stderr",
     "output_type": "stream",
     "text": [
      "C:\\Users\\Chalee\\anaconda3\\lib\\site-packages\\sklearn\\metrics\\classification.py:1437: UndefinedMetricWarning: Precision and F-score are ill-defined and being set to 0.0 in samples with no predicted labels.\n",
      "  'precision', 'predicted', average, warn_for)\n",
      "C:\\Users\\Chalee\\anaconda3\\lib\\site-packages\\sklearn\\metrics\\classification.py:1439: UndefinedMetricWarning: Recall and F-score are ill-defined and being set to 0.0 in samples with no true labels.\n",
      "  'recall', 'true', average, warn_for)\n"
     ]
    }
   ],
   "source": [
    "Y_pred = pd.DataFrame(pipeline.predict(X_test),\n",
    "                      index=Y_test.index,\n",
    "                      columns=Y_test.columns)\n",
    "\n",
    "\n",
    "for col in Y_pred.columns:\n",
    "    print(\">>> %s\" % col)\n",
    "    print(classification_report(Y_test[col], Y_pred[col]))\n",
    "\n",
    "print(classification_report(Y_test, Y_pred))"
   ]
  },
  {
   "cell_type": "markdown",
   "metadata": {},
   "source": [
    "### 6. Improve your model\n",
    "Use grid search to find better parameters. "
   ]
  },
  {
   "cell_type": "code",
   "execution_count": null,
   "metadata": {},
   "outputs": [
    {
     "name": "stderr",
     "output_type": "stream",
     "text": [
      "C:\\Users\\Chalee\\anaconda3\\lib\\site-packages\\sklearn\\model_selection\\_split.py:1978: FutureWarning: The default value of cv will change from 3 to 5 in version 0.22. Specify it explicitly to silence this warning.\n",
      "  warnings.warn(CV_WARNING, FutureWarning)\n"
     ]
    }
   ],
   "source": [
    "parameters = {\n",
    "    \"vectorizer__ngram_range\": [(1,1), (1,2), (1,5)],\n",
    "    \"vectorizer__stop_words\" : [None, \"english\"],\n",
    "    \"vectorizer__use_idf\": [True, False],\n",
    "    \"classifier__n_estimators\": [10, 50, 100],\n",
    "    \"classifier__max_features\": [0.01, 0.05, 0.1],\n",
    "}\n",
    "# Notes: max_features = 0.5 gives score ~0.63, \"log2\" gives 0.53.  But\n",
    "# fitting times are too long with 0.5\n",
    "\n",
    "cv = GridSearchCV(pipeline,\n",
    "                  param_grid=parameters,\n",
    "                  scoring='f1_micro',\n",
    "                  n_jobs=-1)\n",
    "\n",
    "cv.fit(X_train, Y_train)\n"
   ]
  },
  {
   "cell_type": "markdown",
   "metadata": {},
   "source": [
    "### 7. Test your model\n",
    "Show the accuracy, precision, and recall of the tuned model.  \n",
    "\n",
    "Since this project focuses on code quality, process, and  pipelines, there is no minimum performance metric needed to pass. However, make sure to fine tune your models for accuracy, precision and recall to make your project stand out - especially for your portfolio!"
   ]
  },
  {
   "cell_type": "code",
   "execution_count": null,
   "metadata": {},
   "outputs": [],
   "source": [
    "Y_pred = pd.DataFrame(cv.predict(X_test),\n",
    "                      index=Y_test.index,\n",
    "                      columns=Y_test.columns)\n",
    "\n",
    "\n",
    "for col in Y_pred.columns:\n",
    "    print(\">>> %s\" % col)\n",
    "    print(classification_report(Y_test[col], Y_pred[col]))\n",
    "\n",
    "print(classification_report(Y_test, Y_pred))\n"
   ]
  },
  {
   "cell_type": "markdown",
   "metadata": {},
   "source": [
    "### 8. Try improving your model further. Here are a few ideas:\n",
    "* try other machine learning algorithms\n",
    "* add other features besides the TF-IDF"
   ]
  },
  {
   "cell_type": "code",
   "execution_count": null,
   "metadata": {},
   "outputs": [],
   "source": [
    "from sklearn.preprocessing import OneHotEncoder, FunctionTransformer\n",
    "from sklearn.compose import ColumnTransformer\n",
    "from sklearn.decomposition import TruncatedSVD"
   ]
  },
  {
   "cell_type": "code",
   "execution_count": null,
   "metadata": {},
   "outputs": [],
   "source": [
    "def is_null(series):\n",
    "\n",
    "    def is_null_base(s):\n",
    "        res = 0 if s is None else 1\n",
    "        return res\n",
    "    \n",
    "    final = pd.DataFrame(series.applymap(is_null_base))\n",
    "    return final"
   ]
  },
  {
   "cell_type": "code",
   "execution_count": null,
   "metadata": {},
   "outputs": [],
   "source": [
    "categorical_features = ['genre']\n",
    "categorical_transform = OneHotEncoder()\n",
    "\n",
    "original = ['original']\n",
    "original_transform = FunctionTransformer(is_null, validate=False)\n",
    "\n",
    "text = 'message'\n",
    "text_transform = Pipeline([('tfidf', TfidfVectorizer(tokenizer=tokenize)),\n",
    "                           ('best', TruncatedSVD(n_components=50))])"
   ]
  },
  {
   "cell_type": "code",
   "execution_count": null,
   "metadata": {},
   "outputs": [],
   "source": [
    "preprocessor = ColumnTransformer(transformers=[\n",
    "                                ('cat', categorical_transform, categorical_features),\n",
    "                                ('orig', original_transform, original),\n",
    "                                ('tfidf', text_transform, 'message')\n",
    "                                              ])"
   ]
  },
  {
   "cell_type": "code",
   "execution_count": null,
   "metadata": {},
   "outputs": [],
   "source": [
    "preprocessor.fit_transform(X_2)"
   ]
  },
  {
   "cell_type": "code",
   "execution_count": null,
   "metadata": {},
   "outputs": [],
   "source": [
    "clf = forest_clf"
   ]
  },
  {
   "cell_type": "code",
   "execution_count": null,
   "metadata": {},
   "outputs": [],
   "source": [
    "pipeline_2 = Pipeline([\n",
    "                    ('tfidf', TfidfVectorizer(tokenizer=tokenize)),\n",
    "                    ('best', TruncatedSVD(n_components=100)),\n",
    "                    ('clf', MultiOutputClassifier(clf))\n",
    "                      ])"
   ]
  },
  {
   "cell_type": "code",
   "execution_count": null,
   "metadata": {},
   "outputs": [],
   "source": [
    "# test to make sure this works ok\n",
    "pipeline_2.fit(X_train, Y_train)"
   ]
  },
  {
   "cell_type": "code",
   "execution_count": null,
   "metadata": {},
   "outputs": [],
   "source": [
    "print(pipeline_2.steps)"
   ]
  },
  {
   "cell_type": "code",
   "execution_count": null,
   "metadata": {},
   "outputs": [],
   "source": [
    "evaluate_model(pipeline_2, X_test, Y_test)"
   ]
  },
  {
   "cell_type": "code",
   "execution_count": null,
   "metadata": {},
   "outputs": [],
   "source": [
    "param_grid = {\n",
    "    'tfidf__ngram_range': ((1, 1), (1, 2)),\n",
    "    'tfidf__max_df': (0.8, 1.0),\n",
    "    'tfidf__max_features': (None, 10000),\n",
    "    'best__n_components': (10, 50, 100),\n",
    "    'clf__estimator__n_estimators': [50, 100],\n",
    "    'clf__estimator__min_samples_split': [2, 4]\n",
    "}"
   ]
  },
  {
   "cell_type": "code",
   "execution_count": null,
   "metadata": {},
   "outputs": [],
   "source": [
    "cv_2 = GridSearchCV(pipeline_2, param_grid, cv=3, verbose=10, n_jobs=-1)"
   ]
  },
  {
   "cell_type": "code",
   "execution_count": null,
   "metadata": {},
   "outputs": [],
   "source": [
    "cv_2.fit(X_train, Y_train)"
   ]
  },
  {
   "cell_type": "code",
   "execution_count": null,
   "metadata": {},
   "outputs": [],
   "source": [
    "from pprint import pprint"
   ]
  },
  {
   "cell_type": "code",
   "execution_count": null,
   "metadata": {},
   "outputs": [],
   "source": [
    "pprint(cv_2.best_estimator_.steps)"
   ]
  },
  {
   "cell_type": "code",
   "execution_count": null,
   "metadata": {},
   "outputs": [],
   "source": [
    "evaluate_model(cv_2.best_estimator_, X_test, Y_test)"
   ]
  },
  {
   "cell_type": "markdown",
   "metadata": {},
   "source": [
    "### 9. Export your model as a pickle file"
   ]
  },
  {
   "cell_type": "code",
   "execution_count": null,
   "metadata": {},
   "outputs": [],
   "source": [
    "import joblib"
   ]
  },
  {
   "cell_type": "code",
   "execution_count": null,
   "metadata": {},
   "outputs": [],
   "source": [
    "joblib.dump(cv_2.best_estimator_, 'disaster_model.pkl')"
   ]
  },
  {
   "cell_type": "markdown",
   "metadata": {},
   "source": [
    "### 10. Use this notebook to complete `train.py`\n",
    "Use the template file attached in the Resources folder to write a script that runs the steps above to create a database and export a model based on a new dataset specified by the user."
   ]
  },
  {
   "cell_type": "code",
   "execution_count": null,
   "metadata": {},
   "outputs": [],
   "source": []
  }
 ],
 "metadata": {
  "kernelspec": {
   "display_name": "Python 3",
   "language": "python",
   "name": "python3"
  },
  "language_info": {
   "codemirror_mode": {
    "name": "ipython",
    "version": 3
   },
   "file_extension": ".py",
   "mimetype": "text/x-python",
   "name": "python",
   "nbconvert_exporter": "python",
   "pygments_lexer": "ipython3",
   "version": "3.7.6"
  }
 },
 "nbformat": 4,
 "nbformat_minor": 2
}
